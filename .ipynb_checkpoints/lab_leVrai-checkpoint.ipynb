{
 "cells": [
  {
   "cell_type": "code",
   "execution_count": 18,
   "id": "949f4c4e",
   "metadata": {},
   "outputs": [
    {
     "name": "stdout",
     "output_type": "stream",
     "text": [
      "                                                images\n",
      "0    https://ma.jumia.is/unsafe/fit-in/300x300/filt...\n",
      "1    https://ma.jumia.is/unsafe/fit-in/300x300/filt...\n",
      "2    https://ma.jumia.is/unsafe/fit-in/300x300/filt...\n",
      "3    https://ma.jumia.is/unsafe/fit-in/300x300/filt...\n",
      "4    https://ma.jumia.is/unsafe/fit-in/300x300/filt...\n",
      "..                                                 ...\n",
      "624  https://ma.jumia.is/unsafe/fit-in/300x300/filt...\n",
      "625  https://ma.jumia.is/unsafe/fit-in/300x300/filt...\n",
      "626  https://ma.jumia.is/unsafe/fit-in/300x300/filt...\n",
      "627                                                   \n",
      "628  https://ma.jumia.is/unsafe/fit-in/300x300/filt...\n",
      "\n",
      "[629 rows x 1 columns]\n"
     ]
    }
   ],
   "source": [
    "import requests \n",
    "from bs4 import BeautifulSoup \n",
    "import pandas as pd  \n",
    "names=[] \n",
    "prices=[] \n",
    "images=[]\n",
    "i=1;\n",
    "url='https://www.jumia.ma/smartphones-android/?page='+str(i)\n",
    "#for i in range(1,14): \n",
    "while(url != 'https://www.jumia.ma/smartphones-android/?page=20'):\n",
    "    page = requests.get(url)      \n",
    "    soup = BeautifulSoup(page.content, 'html.parser')      \n",
    "    items = soup.find_all('div', attrs={'class': 'info'})   \n",
    "    names=names + [item.find(class_='name').get_text() for item in items]     \n",
    "    prices=prices + [item.find(class_='prc').get_text() for item in items] \n",
    "    items2= soup.find_all(\"div\", attrs={'class': 'img-c'})\n",
    "    for item in items2:\n",
    "        if item.find(\"img\", class_=\"img\") :\n",
    "            images=images+ [item.find(\"img\", class_=\"img\").get('data-src')]\n",
    "            \n",
    "    i=i+1\n",
    "    url=\"https://www.jumia.ma/smartphones-android/?page=\"+str(i)\n",
    "df=pd.DataFrame({\n",
    "    'nom de telephone':names,\n",
    "    'prix':prices,\n",
    "    'images':images\n",
    "} ) \n",
    "\n",
    "df.to_csv('telephones.csv')\n",
    "\n"
   ]
  },
  {
   "cell_type": "code",
   "execution_count": null,
   "id": "053dace8",
   "metadata": {},
   "outputs": [],
   "source": []
  },
  {
   "cell_type": "code",
   "execution_count": null,
   "id": "ea91d095",
   "metadata": {},
   "outputs": [],
   "source": []
  }
 ],
 "metadata": {
  "kernelspec": {
   "display_name": "Python 3 (ipykernel)",
   "language": "python",
   "name": "python3"
  },
  "language_info": {
   "codemirror_mode": {
    "name": "ipython",
    "version": 3
   },
   "file_extension": ".py",
   "mimetype": "text/x-python",
   "name": "python",
   "nbconvert_exporter": "python",
   "pygments_lexer": "ipython3",
   "version": "3.9.12"
  }
 },
 "nbformat": 4,
 "nbformat_minor": 5
}
