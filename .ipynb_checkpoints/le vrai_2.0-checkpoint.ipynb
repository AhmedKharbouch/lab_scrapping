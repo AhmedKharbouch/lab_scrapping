{
 "cells": [
  {
   "cell_type": "code",
   "execution_count": 4,
   "id": "902b32ec",
   "metadata": {},
   "outputs": [
    {
     "name": "stdout",
     "output_type": "stream",
     "text": [
      "                                      nom de telephone          prix  \\\n",
      "0    Samsung Galaxy A13 6.6\" LTE 4GB RAM + 64GB ROM...  1,772.00 Dhs   \n",
      "1       Samsung Galaxy A03 (4Go Ram - 64Go ROM) - Noir  1,349.00 Dhs   \n",
      "2       Samsung Galaxy A03 (4Go Ram - 64Go ROM) - Bleu  1,349.00 Dhs   \n",
      "3    Samsung Galaxy A23 6.6\" LTE 4GB RAM + 128GB RO...  2,166.00 Dhs   \n",
      "4    XIAOMI Redmi Note 11 Pro - FHD+ de 6,67’’(6Go,...  3,099.00 Dhs   \n",
      "..                                                 ...           ...   \n",
      "624  Samsung Galaxy S10+, 6.4\", 8Go, 128Go - Blanc ...  9,999.00 Dhs   \n",
      "625  Samsung Galaxy S10, 6.1\", 8Go, 128Go - Blanc -...  8,790.00 Dhs   \n",
      "626  Hotwav IP7 - 5.7\" - Dual SIM - 16Go - 1Go - An...  1,499.00 Dhs   \n",
      "627  Yezz ANDY 5EL 5\" 4G Double sim - 8Go - sd card...    645.00 Dhs   \n",
      "628  Oale X1 - 4G/Dual SIM - 5.5\" - 16Go - 2Go - An...  1,290.00 Dhs   \n",
      "\n",
      "                                                images  \n",
      "0    https://ma.jumia.is/unsafe/fit-in/300x300/filt...  \n",
      "1    https://ma.jumia.is/unsafe/fit-in/300x300/filt...  \n",
      "2    https://ma.jumia.is/unsafe/fit-in/300x300/filt...  \n",
      "3    https://ma.jumia.is/unsafe/fit-in/300x300/filt...  \n",
      "4    https://ma.jumia.is/unsafe/fit-in/300x300/filt...  \n",
      "..                                                 ...  \n",
      "624  https://ma.jumia.is/unsafe/fit-in/300x300/filt...  \n",
      "625  https://ma.jumia.is/unsafe/fit-in/300x300/filt...  \n",
      "626  https://ma.jumia.is/unsafe/fit-in/300x300/filt...  \n",
      "627                                                     \n",
      "628  https://ma.jumia.is/unsafe/fit-in/300x300/filt...  \n",
      "\n",
      "[629 rows x 3 columns]\n"
     ]
    }
   ],
   "source": [
    "import requests \n",
    "from bs4 import BeautifulSoup \n",
    "import pandas as pd  \n",
    "names=[] \n",
    "prices=[] \n",
    "images=[]\n",
    "i=1;\n",
    "url='https://www.jumia.ma/smartphones-android/?page='+str(i)\n",
    "#for i in range(1,14): \n",
    "while(url != 'https://www.jumia.ma/smartphones-android/?page=20'):\n",
    "    page = requests.get(url)      \n",
    "    soup = BeautifulSoup(page.content, 'html.parser')      \n",
    "    items = soup.find_all('div', attrs={'class': 'info'})   \n",
    "    names=names + [item.find(class_='name').get_text() for item in items]     \n",
    "    prices=prices + [item.find(class_='prc').get_text() for item in items] \n",
    "    items2= soup.find_all(\"div\", attrs={'class': 'img-c'})\n",
    "    for item in items2:\n",
    "        if item.find(\"img\", class_=\"img\") :\n",
    "            images=images+ [item.find(\"img\", class_=\"img\").get('data-src')]\n",
    "            \n",
    "    i=i+1\n",
    "    url=\"https://www.jumia.ma/smartphones-android/?page=\"+str(i)\n",
    "df=pd.DataFrame({\n",
    "    'nom de telephone':names,\n",
    "    'prix':prices,\n",
    "    'images':images\n",
    "} ) \n",
    "print(df)\n",
    "liste=df[df['nom de telephone'] == ''].index\n",
    "for i in liste:\n",
    "    df=df.drop(i)\n",
    "df.to_csv('telephones00.csv')"
   ]
  },
  {
   "cell_type": "code",
   "execution_count": null,
   "id": "faa639fd",
   "metadata": {},
   "outputs": [],
   "source": []
  }
 ],
 "metadata": {
  "kernelspec": {
   "display_name": "Python 3 (ipykernel)",
   "language": "python",
   "name": "python3"
  },
  "language_info": {
   "codemirror_mode": {
    "name": "ipython",
    "version": 3
   },
   "file_extension": ".py",
   "mimetype": "text/x-python",
   "name": "python",
   "nbconvert_exporter": "python",
   "pygments_lexer": "ipython3",
   "version": "3.9.12"
  }
 },
 "nbformat": 4,
 "nbformat_minor": 5
}
