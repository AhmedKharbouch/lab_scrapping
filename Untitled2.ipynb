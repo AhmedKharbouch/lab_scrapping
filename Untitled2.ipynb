{
 "cells": [
  {
   "cell_type": "code",
   "execution_count": null,
   "id": "d6d16078",
   "metadata": {},
   "outputs": [],
   "source": [
    "import requests \n",
    "from bs4 import BeautifulSoup \n",
    "import pandas as pd  \n",
    "names=[] \n",
    "prices=[] \n",
    "images=[]\n",
    "i=1;\n",
    "url='https://www.jumia.ma/smartphones-android/?page='+str(i)\n",
    "#for i in range(1,14): \n",
    "while(url != 'https://www.jumia.ma/telephones-smartphones/?page=20'):\n",
    "    page = requests.get(url)      \n",
    "    soup = BeautifulSoup(page.content, 'html.parser')      \n",
    "    items = soup.find_all('div', attrs={'class': 'info'})   \n",
    "    names=names + [item.find(class_='name').get_text() for item in items]     \n",
    "    prices=prices + [item.find(class_='prc').get_text() for item in items] \n",
    "    items2= soup.find_all(\"div\", attrs={'class': 'img'})\n",
    "    for item in items:\n",
    "        if item.find(class_='img') :\n",
    "            images=images+ [item.find(\"img\", class_=\"img\").get('data-src')]\n",
    "    i=i+1\n",
    "    url=\"https://www.jumia.ma/smartphones-android/?page=\"+str(i)\n",
    "df=pd.DataFrame({\n",
    "    'nom de telephone':names,\n",
    "    'prix':prices,\n",
    "    'images':images\n",
    "} ) \n",
    "print(df)\n",
    "df.to_csv('telephones.csv')"
   ]
  },
  {
   "cell_type": "code",
   "execution_count": null,
   "id": "83d3f27a",
   "metadata": {},
   "outputs": [],
   "source": []
  },
  {
   "cell_type": "code",
   "execution_count": null,
   "id": "c051c987",
   "metadata": {},
   "outputs": [],
   "source": []
  }
 ],
 "metadata": {
  "kernelspec": {
   "display_name": "Python 3 (ipykernel)",
   "language": "python",
   "name": "python3"
  },
  "language_info": {
   "codemirror_mode": {
    "name": "ipython",
    "version": 3
   },
   "file_extension": ".py",
   "mimetype": "text/x-python",
   "name": "python",
   "nbconvert_exporter": "python",
   "pygments_lexer": "ipython3",
   "version": "3.9.12"
  }
 },
 "nbformat": 4,
 "nbformat_minor": 5
}
