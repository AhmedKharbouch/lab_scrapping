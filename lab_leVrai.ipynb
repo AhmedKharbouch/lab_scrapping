{
 "cells": [
  {
   "cell_type": "code",
   "execution_count": 18,
   "id": "949f4c4e",
   "metadata": {},
   "outputs": [
    {
     "name": "stdout",
     "output_type": "stream",
     "text": [
      "                                                images\n",
      "0    https://ma.jumia.is/unsafe/fit-in/300x300/filt...\n",
      "1    https://ma.jumia.is/unsafe/fit-in/300x300/filt...\n",
      "2    https://ma.jumia.is/unsafe/fit-in/300x300/filt...\n",
      "3    https://ma.jumia.is/unsafe/fit-in/300x300/filt...\n",
      "4    https://ma.jumia.is/unsafe/fit-in/300x300/filt...\n",
      "..                                                 ...\n",
      "624  https://ma.jumia.is/unsafe/fit-in/300x300/filt...\n",
      "625  https://ma.jumia.is/unsafe/fit-in/300x300/filt...\n",
      "626  https://ma.jumia.is/unsafe/fit-in/300x300/filt...\n",
      "627                                                   \n",
      "628  https://ma.jumia.is/unsafe/fit-in/300x300/filt...\n",
      "\n",
      "[629 rows x 1 columns]\n"
     ]
    }
   ],
   "source": [
    "import requests \n",
    "from bs4 import BeautifulSoup \n",
    "import pandas as pd  \n",
    "info=[] \n",
    "prices=[]\n",
    "old_price=[]\n",
    "percent=[]\n",
    "images=[]\n",
    "\n",
    "for i in range(1,11):         \n",
    "    page = requests.get(\"https://www.jumia.ma/mlp-pc-gamer/\"+str(i))      \n",
    "    soup = BeautifulSoup(page.content, 'html.parser') \n",
    "    items = soup.find_all('div', class_=['info','img-c','s-prc-w']) \n",
    "    print(items)\n",
    "    for item in items:\n",
    "        if item.find(class_='name') :\n",
    "            info=info + [item.find(class_='name').get_text()]\n",
    "            prices=prices + [item.find(class_='prc').get_text()]\n",
    "        if item.find(class_='old') and item.find(class_='name') and item.find(class_='bdg _dsct _sm') :\n",
    "            old_price=old_price + [item.find(class_='old').get_text()]\n",
    "            percent=percent + [item.find(class_='bdg _dsct _sm').get_text()]\n",
    "            \n",
    "    \n",
    "df=pd.DataFrame({\n",
    "    'description':info,\n",
    "    'prix':prices,\n",
    "} )\n",
    "df2=pd.DataFrame({\n",
    "    'old prix':old_price,\n",
    "} )\n",
    "df4=pd.DataFrame({\n",
    "    'percents':percent,\n",
    "} )\n",
    "\n",
    "df['old price']=df2['old prix']\n",
    "df['percents']=df4['percents']\n",
    "df3 = df.dropna()\n",
    "## null columns index \n",
    "liste=df3[df3['description'] == ''].index\n",
    "for i in liste:\n",
    "    df3=df3.drop(i)\n",
    "##df3 = df.dropna(axis=0, subset=['description'])\n",
    "df3.to_csv('sp1.csv')\n",
    "df3.to_json('sp1.json')\n",
    "\n"
   ]
  },
  {
   "cell_type": "code",
   "execution_count": null,
   "id": "053dace8",
   "metadata": {},
   "outputs": [],
   "source": []
  },
  {
   "cell_type": "code",
   "execution_count": null,
   "id": "ea91d095",
   "metadata": {},
   "outputs": [],
   "source": []
  }
 ],
 "metadata": {
  "kernelspec": {
   "display_name": "Python 3 (ipykernel)",
   "language": "python",
   "name": "python3"
  },
  "language_info": {
   "codemirror_mode": {
    "name": "ipython",
    "version": 3
   },
   "file_extension": ".py",
   "mimetype": "text/x-python",
   "name": "python",
   "nbconvert_exporter": "python",
   "pygments_lexer": "ipython3",
   "version": "3.9.12"
  }
 },
 "nbformat": 4,
 "nbformat_minor": 5
}
