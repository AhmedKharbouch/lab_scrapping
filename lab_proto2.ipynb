{
 "cells": [
  {
   "cell_type": "code",
   "execution_count": null,
   "id": "ae0f7023",
   "metadata": {},
   "outputs": [],
   "source": [
    "import requests \n",
    "from bs4 import BeautifulSoup \n",
    "import pandas as pd  \n",
    "info=[] \n",
    "prices=[]\n",
    "old_price=[] \n",
    "\n",
    "for i in range(1,11):         \n",
    "    page = requests.get(\"https://www.jumia.ma/smartphones-android/\"+str(i))      \n",
    "    soup = BeautifulSoup(page.content, 'html.parser')      \n",
    "    items = soup.find_all('div', attrs={'class': 'info'})\n",
    "    info=info + [item.find(class_='name').get_text() for item in items]     \n",
    "    prices=prices + [item.find(class_='prc').get_text() for item in items] \n",
    "    items2 = soup.find_all('div', attrs={'class': 's-prc-w'})\n",
    "    old_price=old_price+ [item.find(class_='old').get_text() for item in items2]\n",
    "    \n",
    "df=pd.DataFrame({\n",
    "    'description':info,\n",
    "    'prix':prices,\n",
    "    'old prix':old_price,\n",
    "} )\n",
    "\n",
    "df2=pd.DataFrame({\n",
    "    \n",
    "    'old prix':old_price,\n",
    "} )\n",
    "\n",
    "df=df.dropna()\n",
    "\n",
    "df[\"old prix\"]=df2[\"old prix\"]\n",
    "\n",
    "print(new_df)\n",
    "new_df.to_csv('t.csv')\n",
    "    \n",
    "    "
   ]
  },
  {
   "cell_type": "code",
   "execution_count": null,
   "id": "673d4b6d",
   "metadata": {},
   "outputs": [],
   "source": []
  },
  {
   "cell_type": "code",
   "execution_count": null,
   "id": "0ca1b18b",
   "metadata": {},
   "outputs": [],
   "source": []
  },
  {
   "cell_type": "code",
   "execution_count": null,
   "id": "a0b9affa",
   "metadata": {},
   "outputs": [],
   "source": []
  },
  {
   "cell_type": "code",
   "execution_count": null,
   "id": "8448d61b",
   "metadata": {},
   "outputs": [],
   "source": []
  }
 ],
 "metadata": {
  "kernelspec": {
   "display_name": "Python 3 (ipykernel)",
   "language": "python",
   "name": "python3"
  },
  "language_info": {
   "codemirror_mode": {
    "name": "ipython",
    "version": 3
   },
   "file_extension": ".py",
   "mimetype": "text/x-python",
   "name": "python",
   "nbconvert_exporter": "python",
   "pygments_lexer": "ipython3",
   "version": "3.9.12"
  }
 },
 "nbformat": 4,
 "nbformat_minor": 5
}
